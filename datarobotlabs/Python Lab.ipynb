{
 "cells": [
  {
   "cell_type": "markdown",
   "metadata": {
    "colab_type": "text",
    "id": "KOP7kgV5PSl2"
   },
   "source": [
    "# Python and algorithms"
   ]
  },
  {
   "cell_type": "markdown",
   "metadata": {
    "colab_type": "text",
    "id": "0R6uyhNyjPMc"
   },
   "source": [
    "##### Сomplete this part of test without using any libs (your code must not contain keyword 'import')"
   ]
  },
  {
   "cell_type": "markdown",
   "metadata": {
    "colab_type": "text",
    "id": "GC_iufBgjPMd"
   },
   "source": [
    "#### 1. Implement function str_to_dict(some_str) which returnes dictionary, where keys are string characters, and values are their quantity in the string:\n",
    "\n",
    "<div style=\"text-align: right\">1 point</div>"
   ]
  },
  {
   "cell_type": "code",
   "execution_count": 1,
   "metadata": {
    "colab": {
     "autoexec": {
      "startup": false,
      "wait_interval": 0
     }
    },
    "colab_type": "code",
    "id": "DDou3xupjPMe"
   },
   "outputs": [],
   "source": [
    "def str_to_dict(some_str):  \n",
    "    \"\"\"\n",
    "    :param some_str: str\n",
    "    :return: dict\n",
    "    \"\"\"\n",
    "    # YOUR CODE HERE\n",
    "    some_dict = {}\n",
    "    for i in some_str:\n",
    "        if i in some_dict.keys():\n",
    "            continue\n",
    "        sum_words = 0\n",
    "        for j in range(some_str.find(i),len(some_str)):\n",
    "            if i == some_str[j]:\n",
    "                sum_words += 1\n",
    "        some_dict[i] = sum_words\n",
    "    return some_dict"
   ]
  },
  {
   "cell_type": "code",
   "execution_count": 2,
   "metadata": {
    "colab": {
     "autoexec": {
      "startup": false,
      "wait_interval": 0
     }
    },
    "colab_type": "code",
    "id": "FPjc0Ckxsdbl"
   },
   "outputs": [
    {
     "name": "stdout",
     "output_type": "stream",
     "text": [
      "Str to dict: {'d': 1, 'a': 2, 't': 3, 'r': 2, 'o': 2, '_': 1, 'u': 1, 'n': 1, 'i': 2, 'v': 1, 'e': 1, 's': 1, 'y': 1}\n"
     ]
    }
   ],
   "source": [
    "print('Str to dict:', str_to_dict('dataroot_university'))"
   ]
  },
  {
   "cell_type": "markdown",
   "metadata": {
    "colab_type": "text",
    "id": "nurux2Btsdbn"
   },
   "source": [
    "Expected Output: \n",
    "<table>\n",
    "  <tr>\n",
    "    <td>Str to dict:</td>\n",
    "    <td> {'d': 1, 'a': 2, 't': 3, 'r': 2, 'o': 2, '_': 1, 'u': 1, 'n': 1, 'i': 2, 'v': 1, 'e': 1, 's': 1, 'y': 1} </td> \n",
    "  </tr>"
   ]
  },
  {
   "cell_type": "markdown",
   "metadata": {
    "colab_type": "text",
    "id": "ELtxJQQLjPMi"
   },
   "source": [
    "#### 2. Implement function sec_smallest(numbers) which returns second smallest item in the list, without using the built-in sorting methods (your code mustn't contain such words as 'sort', 'sorted'):\n",
    "\n",
    "<div style=\"text-align: right\">1 point\n",
    "  "
   ]
  },
  {
   "cell_type": "code",
   "execution_count": 3,
   "metadata": {
    "colab": {
     "autoexec": {
      "startup": false,
      "wait_interval": 0
     }
    },
    "colab_type": "code",
    "id": "yJVJiK9jjPMj"
   },
   "outputs": [],
   "source": [
    "def sec_smallest(numbers):\n",
    "    \"\"\"\n",
    "    :param numbers: list[int]\n",
    "    :return: int    \n",
    "    \"\"\"\n",
    "    # YOUR CODE HERE\n",
    "    min_number = numbers[0]\n",
    "    min_second = numbers[0]\n",
    "    for i in numbers:\n",
    "        if min_number >= i:\n",
    "            if min_number == i:\n",
    "                continue\n",
    "            min_second = min_number\n",
    "            min_number = i\n",
    "        elif min_second >= i:\n",
    "            min_second = i\n",
    "    return min_second"
   ]
  },
  {
   "cell_type": "code",
   "execution_count": 4,
   "metadata": {
    "colab": {
     "autoexec": {
      "startup": false,
      "wait_interval": 0
     }
    },
    "colab_type": "code",
    "id": "pg4ry_8Csdbq"
   },
   "outputs": [
    {
     "name": "stdout",
     "output_type": "stream",
     "text": [
      "Sec_smallest: -2\n"
     ]
    }
   ],
   "source": [
    "print('Sec_smallest:', sec_smallest([1, 2, -8, -8, -2, 0]))"
   ]
  },
  {
   "cell_type": "markdown",
   "metadata": {
    "colab_type": "text",
    "id": "qVlYH9axsdbs"
   },
   "source": [
    "Expected Output: \n",
    "<table>\n",
    "  <tr>\n",
    "    <td>Sec_smallest:</td>\n",
    "    <td> -2 </td> \n",
    "  </tr>"
   ]
  },
  {
   "cell_type": "markdown",
   "metadata": {
    "colab_type": "text",
    "id": "tzgLZ6VijPMo"
   },
   "source": [
    "#### 3. Implement function prime_nums(n) that returns list of numbers which  are simple and < n:\n",
    "\n",
    "<div style=\"text-align: right\">1 point</div>"
   ]
  },
  {
   "cell_type": "code",
   "execution_count": 5,
   "metadata": {
    "colab": {
     "autoexec": {
      "startup": false,
      "wait_interval": 0
     }
    },
    "colab_type": "code",
    "id": "jvVD9N32jPMp"
   },
   "outputs": [],
   "source": [
    "def prime_nums(n):\n",
    "    \"\"\"\n",
    "    :param n: int\n",
    "    :return: list[int]\n",
    "    \"\"\"\n",
    "    # YOUR CODE HERE\n",
    "    simple_numbers = []\n",
    "    for num in range(2,n):\n",
    "        prime = True\n",
    "        for i in range(2,num):\n",
    "            if (num%i==0):\n",
    "                prime = False\n",
    "                break\n",
    "        if prime:\n",
    "            simple_numbers.append(num)\n",
    "    return simple_numbers"
   ]
  },
  {
   "cell_type": "code",
   "execution_count": 6,
   "metadata": {
    "colab": {
     "autoexec": {
      "startup": false,
      "wait_interval": 0
     }
    },
    "colab_type": "code",
    "id": "Zf9DMkN9sdbw"
   },
   "outputs": [
    {
     "name": "stdout",
     "output_type": "stream",
     "text": [
      "Prime numbers: [2, 3, 5, 7, 11, 13, 17, 19, 23, 29]\n"
     ]
    }
   ],
   "source": [
    "print('Prime numbers:', prime_nums(30))"
   ]
  },
  {
   "cell_type": "markdown",
   "metadata": {
    "colab_type": "text",
    "id": "pYutFqaAsdbz"
   },
   "source": [
    "Expected Output:\n",
    "<table>\n",
    "  <tr>\n",
    "    <td>Prime numbers:</td>\n",
    "    <td>[2, 3, 5, 7, 11, 13, 17, 19, 23, 29]</td>\n",
    "  </tr>"
   ]
  },
  {
   "cell_type": "markdown",
   "metadata": {},
   "source": [
    "**4. Implement function max_sum_index(tuples), which returnes index of tuple in the list with maximum sum of elements:**\n",
    "\n",
    "<div style=\"text-align: right\">1 point</div>"
   ]
  },
  {
   "cell_type": "code",
   "execution_count": 7,
   "metadata": {},
   "outputs": [],
   "source": [
    "def max_sum_index(tuples):  \n",
    "    '''\n",
    "    :param tuples: list[tuple]\n",
    "    :return: int\n",
    "    '''\n",
    "    # YOUR CODE HERE\n",
    "    sum_max = sum(tuples[0])\n",
    "    index_max = 0\n",
    "    i = 0\n",
    "    for j in tuples:\n",
    "        if sum(j) > sum_max:\n",
    "            sum_max = sum(j)\n",
    "            index_max = i\n",
    "        i += 1\n",
    "    return index_max"
   ]
  },
  {
   "cell_type": "code",
   "execution_count": 8,
   "metadata": {},
   "outputs": [
    {
     "name": "stdout",
     "output_type": "stream",
     "text": [
      "1\n"
     ]
    }
   ],
   "source": [
    "print(max_sum_index([(10, 20), (40, 32), (30, 25)]))"
   ]
  },
  {
   "cell_type": "markdown",
   "metadata": {},
   "source": [
    "Expected Output: \n",
    "<table>\n",
    "  <tr>\n",
    "    <td>Index:</td>\n",
    "    <td> 1 </td> \n",
    "  </tr>"
   ]
  },
  {
   "cell_type": "markdown",
   "metadata": {},
   "source": [
    "**5. Implement function gcd(x, y), which returns the greatest common divisor of n and m.**\n",
    "<div style=\"text-align: right\">1 point</div>"
   ]
  },
  {
   "cell_type": "code",
   "execution_count": 9,
   "metadata": {},
   "outputs": [],
   "source": [
    "def gcd(x, y):   \n",
    "    '''\n",
    "    :params m,n: int\n",
    "    :return: int\n",
    "    '''\n",
    "    # YOUR CODE HERE\n",
    "    while x != 0 and y != 0:\n",
    "        if x > y:\n",
    "            x %= y\n",
    "        else:\n",
    "            y %= x\n",
    "    return x + y"
   ]
  },
  {
   "cell_type": "code",
   "execution_count": 10,
   "metadata": {},
   "outputs": [
    {
     "name": "stdout",
     "output_type": "stream",
     "text": [
      "20\n"
     ]
    }
   ],
   "source": [
    "print(gcd(160, 180))"
   ]
  },
  {
   "cell_type": "markdown",
   "metadata": {},
   "source": [
    "Expected Output: \n",
    "<table>\n",
    "  <tr>\n",
    "    <td>GCD:</td>\n",
    "    <td> 20 </td> \n",
    "  </tr>"
   ]
  },
  {
   "cell_type": "markdown",
   "metadata": {},
   "source": [
    "#### 6. Implement recursive sum of the list:\n",
    "<div style=\"text-align: right\">1 point</div>"
   ]
  },
  {
   "cell_type": "code",
   "execution_count": 11,
   "metadata": {},
   "outputs": [],
   "source": [
    "def recursive_list_sum(data_list):\n",
    "    \"\"\"\n",
    "    :param data_list: list[list]\n",
    "    \"\"\"\n",
    "    # YOUR CODE HERE\n",
    "    sum_list = []\n",
    "    for i in data_list:\n",
    "        try:\n",
    "            sum_list.extend(i)\n",
    "        except:\n",
    "            sum_list.append(i)\n",
    "    return sum(sum_list)"
   ]
  },
  {
   "cell_type": "code",
   "execution_count": 12,
   "metadata": {},
   "outputs": [
    {
     "name": "stdout",
     "output_type": "stream",
     "text": [
      "The sum of a list is  45\n"
     ]
    }
   ],
   "source": [
    "print('The sum of a list is ', recursive_list_sum([1, 2, [3,4],[5,6], [7, 8, 9]]))"
   ]
  },
  {
   "cell_type": "markdown",
   "metadata": {},
   "source": [
    "Expected Output:\n",
    "<table>\n",
    "  <tr>\n",
    "    <td>The sum of a list is 45</td> \n",
    "  </tr>"
   ]
  },
  {
   "cell_type": "markdown",
   "metadata": {},
   "source": [
    "#### 7. Implement decorator which returns function signature and it's return value:\n",
    "<div style=\"text-align: right\">1 point</div>"
   ]
  },
  {
   "cell_type": "code",
   "execution_count": 13,
   "metadata": {},
   "outputs": [],
   "source": [
    "def debug(func):\n",
    "    \"\"\"\n",
    "    :param func: function\n",
    "    \"\"\"\n",
    "    # YOUR CODE HERE\n",
    "    def wrapper(*args, **kwargs):\n",
    "        output = func(*args, **kwargs)\n",
    "        print(f'{func.__name__}{args} was called and returned {output}')\n",
    "        return output\n",
    "\n",
    "    return wrapper"
   ]
  },
  {
   "cell_type": "code",
   "execution_count": 14,
   "metadata": {},
   "outputs": [
    {
     "name": "stdout",
     "output_type": "stream",
     "text": [
      "add(3, 4) was called and returned 7\n"
     ]
    },
    {
     "data": {
      "text/plain": [
       "7"
      ]
     },
     "execution_count": 14,
     "metadata": {},
     "output_type": "execute_result"
    }
   ],
   "source": [
    "@debug\n",
    "def add(a, b):\n",
    "    return a + b\n",
    "\n",
    "add(3, 4)"
   ]
  },
  {
   "cell_type": "markdown",
   "metadata": {},
   "source": [
    "Expected Output:\n",
    "<table>\n",
    "  <tr>\n",
    "    <td>'add(3, 4) was called and returned 7'</td>\n",
    "  </tr>"
   ]
  },
  {
   "cell_type": "markdown",
   "metadata": {
    "colab_type": "text",
    "id": "p96mEq8vjPMr"
   },
   "source": [
    "#### 8. Implement class Conv, that contains method to_roman(self, n), which converts decimal numbers to Roman numerals:\n",
    "\n",
    "<div style=\"text-align: right\">2 points</div>"
   ]
  },
  {
   "cell_type": "code",
   "execution_count": 15,
   "metadata": {
    "colab": {
     "autoexec": {
      "startup": false,
      "wait_interval": 0
     }
    },
    "colab_type": "code",
    "id": "weYiaNWojPMs"
   },
   "outputs": [],
   "source": [
    "class Conv:\n",
    "    def __init__(self):\n",
    "        self.val = [\n",
    "            1000, 900, 500, 400,\n",
    "            100, 90, 50, 40,\n",
    "            10, 9, 5, 4, 1\n",
    "        ]\n",
    "\n",
    "        self.syb = [\n",
    "            'M', 'CM', 'D', 'CD',\n",
    "            'C', 'XC', 'L', 'XL',\n",
    "            'X', 'IX', 'V', 'IV',\n",
    "            'I'\n",
    "        ]\n",
    "        \n",
    "    def to_roman(self, num):    \n",
    "        \"\"\"\n",
    "        :param self:\n",
    "        :param n: int\n",
    "        :return: str    \n",
    "        \"\"\"\n",
    "        # YOUR CODE HERE\n",
    "        roman_num = ''\n",
    "        i = 0\n",
    "        while  num > 0:\n",
    "            for _ in range(num // self.val[i]):\n",
    "                roman_num += self.syb[i]\n",
    "                num -= self.val[i]\n",
    "            i += 1\n",
    "        return roman_num"
   ]
  },
  {
   "cell_type": "code",
   "execution_count": 16,
   "metadata": {
    "colab": {
     "autoexec": {
      "startup": false,
      "wait_interval": 0
     }
    },
    "colab_type": "code",
    "id": "NdffBhZesdb6"
   },
   "outputs": [
    {
     "name": "stdout",
     "output_type": "stream",
     "text": [
      "Converted: XLIV\n"
     ]
    }
   ],
   "source": [
    "print('Converted:', Conv().to_roman(44))"
   ]
  },
  {
   "cell_type": "markdown",
   "metadata": {
    "colab_type": "text",
    "id": "lF6Acd9gsdb8"
   },
   "source": [
    "Expected Output:\n",
    "<table>\n",
    "  <tr>\n",
    "    <td>Converted:</td>\n",
    "    <td>XLIV</td> \n",
    "  </tr>"
   ]
  },
  {
   "cell_type": "markdown",
   "metadata": {
    "colab_type": "text",
    "id": "kphmMZ7JjPMv"
   },
   "source": [
    "#### 9. Implement class CombinationsList, that contains method get_combinations(self, my_list), which returns all combinations of elements of given list, including empty element and in order, law of which can be discrovered from the expected output:\n",
    "<div style=\"text-align: right\">3 points</div>"
   ]
  },
  {
   "cell_type": "code",
   "execution_count": 17,
   "metadata": {
    "colab": {
     "autoexec": {
      "startup": false,
      "wait_interval": 0
     }
    },
    "colab_type": "code",
    "id": "YRLNrVppjPMw"
   },
   "outputs": [],
   "source": [
    "class CombinationsList:\n",
    "    @staticmethod\n",
    "    def get_combinations(my_list):\n",
    "        \"\"\"\n",
    "        :param self:\n",
    "        :param my_list: list\n",
    "        :return: list[list]\n",
    "        \"\"\"\n",
    "        # YOUR CODE HERE\n",
    "        n = len(my_list)\n",
    "        answer = []\n",
    "        for i in range(2**n):\n",
    "            combo = []\n",
    "            for j in range(n):\n",
    "                if (i >> j) % 2 == 1:\n",
    "                    combo.append(my_list[j])\n",
    "            answer.append(combo)\n",
    "        return answer"
   ]
  },
  {
   "cell_type": "code",
   "execution_count": 18,
   "metadata": {
    "colab": {
     "autoexec": {
      "startup": false,
      "wait_interval": 0
     }
    },
    "colab_type": "code",
    "id": "8IVUwFllsdb_"
   },
   "outputs": [
    {
     "name": "stdout",
     "output_type": "stream",
     "text": [
      "Combinations: [[], [1], [2], [1, 2], ['a'], [1, 'a'], [2, 'a'], [1, 2, 'a']]\n"
     ]
    }
   ],
   "source": [
    "print('Combinations:', CombinationsList().get_combinations([1, 2, 'a']))"
   ]
  },
  {
   "cell_type": "markdown",
   "metadata": {
    "colab_type": "text",
    "id": "Etp9QRL-sdcC"
   },
   "source": [
    "Expected Output:\n",
    "<table>\n",
    "  <tr>\n",
    "    <td>Combinations:</td>\n",
    "    <td>[[], [1], [2], ['a'], [1, 2], [1, 'a'], [2, 'a'], [1, 2, 'a']]</td> \n",
    "  </tr>"
   ]
  },
  {
   "cell_type": "markdown",
   "metadata": {},
   "source": [
    "#### 10. Create base class <code>Rocket</code> and it's subclass <code>Shuttle</code>. The parent class contains methods <code>getMission()</code>, <code>addMission()</code> and <code>getName()</code>. The subclass <code>Shuttle</code> contains method <code>getDescription()</code>. Notice that we have not defined <code>getName()</code>, <code>getMission()</code>, <code>addMission()</code> in the <code>Shuttle</code> class but we are still able to access them, because the class <code>Shuttle</code> inherits them from the <code>Rocket</code> class. Use <code>super()</code> method to have ability to call those methods of the base class.\n",
    "<div style=\"text-align: right\">3 points</div>"
   ]
  },
  {
   "cell_type": "code",
   "execution_count": 19,
   "metadata": {},
   "outputs": [],
   "source": [
    "class Rocket:\n",
    "\n",
    "    def __init__(self, name, mission):\n",
    "        \"\"\"\n",
    "        :param name: str\n",
    "        :param mission: str or list\n",
    "        \"\"\"\n",
    "        # attributes are private to class Rocket\n",
    "        self.__name = name      \n",
    "        self.__mission = mission\n",
    "\n",
    "    def getMission(self): \n",
    "        \"\"\"\n",
    "        : return str or list\n",
    "        \"\"\"\n",
    "        # YOUR CODE HERE\n",
    "        return self.__mission\n",
    "\n",
    "    def addMission(self, mission): \n",
    "        # procedure method which adds a new mission. There can be one (str) or multiple (list) existing missions\n",
    "        \"\"\"\n",
    "        : param mission: str\n",
    "        \"\"\"\n",
    "        # YOUR CODE HERE\n",
    "        if type(self.__mission) == 'list':\n",
    "            self.__mission.append(mission)\n",
    "        else:\n",
    "            self.__mission = [self.__mission, mission]\n",
    "        \n",
    "    def getName(self):\n",
    "        \"\"\"\n",
    "        : return str\n",
    "        \"\"\"\n",
    "        # YOUR CODE HERE\n",
    "        return self.__name\n",
    "\n",
    "    \n",
    "class Shuttle(Rocket):\n",
    "\n",
    "    def __init__(self, name, mission, model):\n",
    "        # call parent constructor to set name and mission  \n",
    "        \"\"\"\n",
    "        :param name: str\n",
    "        :param mission: str or list\n",
    "        : param model: str\n",
    "        \"\"\"\n",
    "        # YOUR CODE HERE\n",
    "        super().__init__(name, mission)\n",
    "        self.__model = model\n",
    "\n",
    "    def getDescription(self):\n",
    "        return 'Name: {0}\\nModel: {1}\\nMissions: {2}'.format(self.getName(), self.__model, str(self.getMission()))"
   ]
  },
  {
   "cell_type": "code",
   "execution_count": 20,
   "metadata": {},
   "outputs": [
    {
     "name": "stdout",
     "output_type": "stream",
     "text": [
      "Name: Crew Dragon\n",
      "Model: V2\n",
      "Missions: Dragon 2 pad abort test \n",
      "\n",
      "Name: Crew Dragon\n",
      "Model: V2\n",
      "Missions: ['Dragon 2 pad abort test', 'Dragon 2 in-flight abort test']\n"
     ]
    }
   ],
   "source": [
    "dragon = Shuttle(\"Crew Dragon\", \"Dragon 2 pad abort test\", \"V2\")\n",
    "print(dragon.getDescription(), '\\n')\n",
    "dragon.addMission('Dragon 2 in-flight abort test')\n",
    "print(dragon.getDescription())"
   ]
  },
  {
   "cell_type": "markdown",
   "metadata": {},
   "source": [
    "Expected Output: \n",
    "\n",
    "                Name: Crew Dragon\n",
    "                Model: V2\n",
    "                Missions: Dragon 2 pad abort test\n",
    "                \n",
    "                Name: Crew Dragon\n",
    "                Model: V2\n",
    "                Missions: ['Dragon 2 pad abort test', 'Dragon 2 in-flight abort test']\n",
    "\n"
   ]
  }
 ],
 "metadata": {
  "colab": {
   "collapsed_sections": [],
   "default_view": {},
   "name": "DataRoot University  _ Data Science Module 1 _ Test 1.ipynb",
   "provenance": [],
   "version": "0.3.2",
   "views": {}
  },
  "kernelspec": {
   "display_name": "Python 3",
   "language": "python",
   "name": "python3"
  },
  "language_info": {
   "codemirror_mode": {
    "name": "ipython",
    "version": 3
   },
   "file_extension": ".py",
   "mimetype": "text/x-python",
   "name": "python",
   "nbconvert_exporter": "python",
   "pygments_lexer": "ipython3",
   "version": "3.8.5"
  }
 },
 "nbformat": 4,
 "nbformat_minor": 1
}
