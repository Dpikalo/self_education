{
 "cells": [
  {
   "cell_type": "code",
   "execution_count": 1,
   "metadata": {},
   "outputs": [],
   "source": [
    "import requests  # импортируем модуль\n",
    "import pandas as pd\n",
    "import datetime"
   ]
  },
  {
   "cell_type": "code",
   "execution_count": 325,
   "metadata": {},
   "outputs": [],
   "source": [
    "list_company = ['PD', 'ZUO', 'PINS', 'ZM', 'PVTL', 'DOCU', 'CLDR', 'RUN']"
   ]
  },
  {
   "cell_type": "code",
   "execution_count": 327,
   "metadata": {},
   "outputs": [
    {
     "ename": "IndentationError",
     "evalue": "unexpected indent (<ipython-input-327-d3d0a3814b92>, line 6)",
     "output_type": "error",
     "traceback": [
      "\u001b[1;36m  File \u001b[1;32m\"<ipython-input-327-d3d0a3814b92>\"\u001b[1;36m, line \u001b[1;32m6\u001b[0m\n\u001b[1;33m    df['Date'] = pd.to_datetime(df['Date'])\u001b[0m\n\u001b[1;37m    ^\u001b[0m\n\u001b[1;31mIndentationError\u001b[0m\u001b[1;31m:\u001b[0m unexpected indent\n"
     ]
    }
   ],
   "source": [
    "for i in list_company:\n",
    "    with open(r'C:\\Users\\demap\\PycharmProjects\\parser_yahoo\\{}.csv'.format(i), \"wb\") as f:  # делая через менеджер контекста чтобы не было проблем с работой файлов\n",
    "        ufr = requests.get(\"https://query1.finance.yahoo.com/v7/finance/download/{}?period1=1565481600&period2=1597104000&interval=1d&events=history\".format(i))  # делаем запрос\n",
    "        f.write(ufr.content)    # записываем в файл наши данны\n",
    "df = pd.read_csv('{}.csv'.format(i))\n",
    "        df['Date'] = pd.to_datetime(df['Date'])\n",
    "        df['3day_before_change'] = '-'\n",
    "        n = len(df.Close)\n",
    "        for _ in range(n - 3):\n",
    "            if (df['Date'][_ + 1] - df['Date'][_]).days == 3:\n",
    "                if df.loc[_ + 1, 'Close'] != float(0) and df.loc[_, 'Close'] != float(0):\n",
    "                    df.loc[_ + 1, '3day_before_change'] = float(df.loc[_ + 1, 'Close'] / df.loc[_, 'Close'])\n",
    "            elif (df['Date'][_ + 2] - df['Date'][_]).days == 3:\n",
    "                if df.loc[_ + 2, 'Close'] != float(0) and df.loc[_, 'Close'] != float(0):\n",
    "                    df.loc[_ + 2, '3day_before_change'] = float(df.loc[_ + 2, 'Close'] / df.loc[_, 'Close'])\n",
    "            elif (df['Date'][_ + 3] - df['Date'][_]).days == 3:\n",
    "                if df.loc[_ + 3, 'Close'] != float(0) and df.loc[_, 'Close'] != float(0):\n",
    "                    df.loc[_ + 3, '3day_before_change'] = float(df.loc[_ + 3, 'Close'] / df.loc[_, 'Close'])\n",
    "        if (df['Date'][n - 1] - df['Date'][n - 2]).days == 3:\n",
    "            if df.loc[n - 1, 'Close'] != float(0) and df.loc[n - 2, 'Close'] != float(0):\n",
    "                df.loc[n - 1, '3day_before_change'] = float(df.loc[n - 1, 'Close'] / df.loc[n - 2, 'Close'])\n",
    "        if (df['Date'][n - 2] - df['Date'][n - 3]).days == 3:\n",
    "            if df.loc[n - 2, 'Close'] != float(0) and df.loc[n - 3, 'Close'] != float(0):\n",
    "                df.loc[n - 2, '3day_before_change'] = float(df.loc[n - 2, 'Close'] / df.loc[n - 3, 'Close'])\n",
    "        df.to_csv('{}.csv'.format(i))\n"
   ]
  },
  {
   "cell_type": "code",
   "execution_count": 319,
   "metadata": {},
   "outputs": [],
   "source": [
    "df['Date'] = pd.to_datetime(df['Date'], errors='coerce')"
   ]
  },
  {
   "cell_type": "code",
   "execution_count": 320,
   "metadata": {},
   "outputs": [
    {
     "name": "stdout",
     "output_type": "stream",
     "text": [
      "<class 'pandas.core.frame.DataFrame'>\n",
      "RangeIndex: 252 entries, 0 to 251\n",
      "Data columns (total 8 columns):\n",
      " #   Column              Non-Null Count  Dtype         \n",
      "---  ------              --------------  -----         \n",
      " 0   Date                252 non-null    datetime64[ns]\n",
      " 1   Open                252 non-null    float64       \n",
      " 2   High                252 non-null    float64       \n",
      " 3   Low                 252 non-null    float64       \n",
      " 4   Close               252 non-null    float64       \n",
      " 5   Adj Close           252 non-null    float64       \n",
      " 6   Volume              252 non-null    int64         \n",
      " 7   3day_before_change  252 non-null    object        \n",
      "dtypes: datetime64[ns](1), float64(5), int64(1), object(1)\n",
      "memory usage: 15.9+ KB\n"
     ]
    }
   ],
   "source": [
    "df['3day_before_change'] = '-'\n",
    "df.info()"
   ]
  },
  {
   "cell_type": "code",
   "execution_count": 321,
   "metadata": {},
   "outputs": [],
   "source": [
    "n = len(df.Adj Close)\n",
    "for _ in range(n-3):\n",
    "    if (df['Date'][_+1] - df['Date'][_]).days == 3:\n",
    "        if df.loc[_+1, 'Adj Close'] != float(0) and df.loc[_, 'Adj Close'] != float(0):\n",
    "            df.loc[_+1, '3day_before_change'] = float(df.loc[_+1, 'Adj Close'] / df.loc[_, 'Adj Close'])\n",
    "    elif (df['Date'][_+2] - df['Date'][_]).days == 3:\n",
    "        if df.loc[_+2, 'Adj Close'] != float(0) and df.loc[_, 'Adj Close'] != float(0):\n",
    "            df.loc[_+2, '3day_before_change'] = float(df.loc[_+2, 'Adj Close'] / df.loc[_, 'Adj Close'])\n",
    "    elif (df['Date'][_+3] - df['Date'][_]).days == 3:\n",
    "        if df.loc[_+3, 'Adj Close'] != float(0) and df.loc[_, 'Adj Close'] != float(0):\n",
    "            df.loc[_+3, '3day_before_change'] = float(df.loc[_+3, 'Adj Close'] / df.loc[_, 'Adj Close'])\n",
    "if (df['Date'][n-1] - df['Date'][n-2]).days == 3:\n",
    "    if df.loc[n-1, 'Adj Close'] != float(0) and df.loc[n-2, 'Adj Close'] != float(0):\n",
    "        df.loc[n-1, '3day_before_change'] = float(df.loc[n-1, 'Adj Close'] / df.loc[n-2, 'Adj Close'])\n",
    "if (df['Date'][n-2] - df['Date'][n-3]).days == 3:\n",
    "    if df.loc[n-2, 'Adj Close'] != float(0) and df.loc[n-3, 'Adj Close'] != float(0):\n",
    "        df.loc[n-2, '3day_before_change'] = float(df.loc[n-2, 'Adj Close'] / df.loc[n-3, 'Adj Close'])"
   ]
  },
  {
   "cell_type": "code",
   "execution_count": 322,
   "metadata": {},
   "outputs": [
    {
     "data": {
      "text/html": [
       "<div>\n",
       "<style scoped>\n",
       "    .dataframe tbody tr th:only-of-type {\n",
       "        vertical-align: middle;\n",
       "    }\n",
       "\n",
       "    .dataframe tbody tr th {\n",
       "        vertical-align: top;\n",
       "    }\n",
       "\n",
       "    .dataframe thead th {\n",
       "        text-align: right;\n",
       "    }\n",
       "</style>\n",
       "<table border=\"1\" class=\"dataframe\">\n",
       "  <thead>\n",
       "    <tr style=\"text-align: right;\">\n",
       "      <th></th>\n",
       "      <th>Date</th>\n",
       "      <th>Open</th>\n",
       "      <th>High</th>\n",
       "      <th>Low</th>\n",
       "      <th>Close</th>\n",
       "      <th>Adj Close</th>\n",
       "      <th>Volume</th>\n",
       "      <th>3day_before_change</th>\n",
       "    </tr>\n",
       "  </thead>\n",
       "  <tbody>\n",
       "    <tr>\n",
       "      <th>242</th>\n",
       "      <td>2020-07-28</td>\n",
       "      <td>27.870001</td>\n",
       "      <td>28.760000</td>\n",
       "      <td>27.500000</td>\n",
       "      <td>28.180000</td>\n",
       "      <td>28.180000</td>\n",
       "      <td>1988900</td>\n",
       "      <td>-</td>\n",
       "    </tr>\n",
       "    <tr>\n",
       "      <th>243</th>\n",
       "      <td>2020-07-29</td>\n",
       "      <td>28.480000</td>\n",
       "      <td>29.959999</td>\n",
       "      <td>28.395000</td>\n",
       "      <td>29.940001</td>\n",
       "      <td>29.940001</td>\n",
       "      <td>1934400</td>\n",
       "      <td>-</td>\n",
       "    </tr>\n",
       "    <tr>\n",
       "      <th>244</th>\n",
       "      <td>2020-07-30</td>\n",
       "      <td>29.320000</td>\n",
       "      <td>30.480000</td>\n",
       "      <td>29.040001</td>\n",
       "      <td>29.910000</td>\n",
       "      <td>29.910000</td>\n",
       "      <td>1635600</td>\n",
       "      <td>1.06745</td>\n",
       "    </tr>\n",
       "    <tr>\n",
       "      <th>245</th>\n",
       "      <td>2020-07-31</td>\n",
       "      <td>29.320000</td>\n",
       "      <td>30.480000</td>\n",
       "      <td>29.320000</td>\n",
       "      <td>30.480000</td>\n",
       "      <td>30.480000</td>\n",
       "      <td>875600</td>\n",
       "      <td>1.08162</td>\n",
       "    </tr>\n",
       "    <tr>\n",
       "      <th>246</th>\n",
       "      <td>2020-08-03</td>\n",
       "      <td>30.540001</td>\n",
       "      <td>30.950001</td>\n",
       "      <td>30.040001</td>\n",
       "      <td>30.709999</td>\n",
       "      <td>30.709999</td>\n",
       "      <td>1145700</td>\n",
       "      <td>1.00755</td>\n",
       "    </tr>\n",
       "    <tr>\n",
       "      <th>247</th>\n",
       "      <td>2020-08-04</td>\n",
       "      <td>30.770000</td>\n",
       "      <td>31.090000</td>\n",
       "      <td>30.270000</td>\n",
       "      <td>30.959999</td>\n",
       "      <td>30.959999</td>\n",
       "      <td>814400</td>\n",
       "      <td>-</td>\n",
       "    </tr>\n",
       "    <tr>\n",
       "      <th>248</th>\n",
       "      <td>2020-08-05</td>\n",
       "      <td>31.080000</td>\n",
       "      <td>32.942001</td>\n",
       "      <td>30.504999</td>\n",
       "      <td>32.840000</td>\n",
       "      <td>32.840000</td>\n",
       "      <td>1527400</td>\n",
       "      <td>-</td>\n",
       "    </tr>\n",
       "    <tr>\n",
       "      <th>249</th>\n",
       "      <td>2020-08-06</td>\n",
       "      <td>33.000000</td>\n",
       "      <td>33.087002</td>\n",
       "      <td>31.290001</td>\n",
       "      <td>31.600000</td>\n",
       "      <td>31.600000</td>\n",
       "      <td>900100</td>\n",
       "      <td>1.02898</td>\n",
       "    </tr>\n",
       "    <tr>\n",
       "      <th>250</th>\n",
       "      <td>2020-08-07</td>\n",
       "      <td>31.500000</td>\n",
       "      <td>32.000000</td>\n",
       "      <td>29.379999</td>\n",
       "      <td>29.850000</td>\n",
       "      <td>29.850000</td>\n",
       "      <td>1410900</td>\n",
       "      <td>0.964147</td>\n",
       "    </tr>\n",
       "    <tr>\n",
       "      <th>251</th>\n",
       "      <td>2020-08-10</td>\n",
       "      <td>30.000000</td>\n",
       "      <td>30.180000</td>\n",
       "      <td>26.980000</td>\n",
       "      <td>28.360001</td>\n",
       "      <td>28.360001</td>\n",
       "      <td>1331100</td>\n",
       "      <td>0.950084</td>\n",
       "    </tr>\n",
       "  </tbody>\n",
       "</table>\n",
       "</div>"
      ],
      "text/plain": [
       "          Date       Open       High        Low      Close  Adj Close  \\\n",
       "242 2020-07-28  27.870001  28.760000  27.500000  28.180000  28.180000   \n",
       "243 2020-07-29  28.480000  29.959999  28.395000  29.940001  29.940001   \n",
       "244 2020-07-30  29.320000  30.480000  29.040001  29.910000  29.910000   \n",
       "245 2020-07-31  29.320000  30.480000  29.320000  30.480000  30.480000   \n",
       "246 2020-08-03  30.540001  30.950001  30.040001  30.709999  30.709999   \n",
       "247 2020-08-04  30.770000  31.090000  30.270000  30.959999  30.959999   \n",
       "248 2020-08-05  31.080000  32.942001  30.504999  32.840000  32.840000   \n",
       "249 2020-08-06  33.000000  33.087002  31.290001  31.600000  31.600000   \n",
       "250 2020-08-07  31.500000  32.000000  29.379999  29.850000  29.850000   \n",
       "251 2020-08-10  30.000000  30.180000  26.980000  28.360001  28.360001   \n",
       "\n",
       "      Volume 3day_before_change  \n",
       "242  1988900                  -  \n",
       "243  1934400                  -  \n",
       "244  1635600            1.06745  \n",
       "245   875600            1.08162  \n",
       "246  1145700            1.00755  \n",
       "247   814400                  -  \n",
       "248  1527400                  -  \n",
       "249   900100            1.02898  \n",
       "250  1410900           0.964147  \n",
       "251  1331100           0.950084  "
      ]
     },
     "execution_count": 322,
     "metadata": {},
     "output_type": "execute_result"
    }
   ],
   "source": [
    "df.tail(10)"
   ]
  },
  {
   "cell_type": "code",
   "execution_count": 323,
   "metadata": {},
   "outputs": [],
   "source": [
    "df.to_csv('PD.csv')"
   ]
  },
  {
   "cell_type": "code",
   "execution_count": 4,
   "metadata": {},
   "outputs": [],
   "source": [
    "df = pd.read_csv('employee_file2.csv')"
   ]
  },
  {
   "cell_type": "code",
   "execution_count": 5,
   "metadata": {},
   "outputs": [
    {
     "data": {
      "text/html": [
       "<div>\n",
       "<style scoped>\n",
       "    .dataframe tbody tr th:only-of-type {\n",
       "        vertical-align: middle;\n",
       "    }\n",
       "\n",
       "    .dataframe tbody tr th {\n",
       "        vertical-align: top;\n",
       "    }\n",
       "\n",
       "    .dataframe thead th {\n",
       "        text-align: right;\n",
       "    }\n",
       "</style>\n",
       "<table border=\"1\" class=\"dataframe\">\n",
       "  <thead>\n",
       "    <tr style=\"text-align: right;\">\n",
       "      <th></th>\n",
       "      <th>Title</th>\n",
       "      <th>Link</th>\n",
       "    </tr>\n",
       "  </thead>\n",
       "  <tbody>\n",
       "    <tr>\n",
       "      <th>0</th>\n",
       "      <td>John Smith</td>\n",
       "      <td>Accounting</td>\n",
       "    </tr>\n",
       "    <tr>\n",
       "      <th>1</th>\n",
       "      <td>Erica Meyers</td>\n",
       "      <td>IT</td>\n",
       "    </tr>\n",
       "  </tbody>\n",
       "</table>\n",
       "</div>"
      ],
      "text/plain": [
       "          Title        Link\n",
       "0    John Smith  Accounting\n",
       "1  Erica Meyers          IT"
      ]
     },
     "execution_count": 5,
     "metadata": {},
     "output_type": "execute_result"
    }
   ],
   "source": [
    "df"
   ]
  },
  {
   "cell_type": "code",
   "execution_count": 7,
   "metadata": {},
   "outputs": [],
   "source": [
    "df = pd.read_csv('PVTL.csv')\n"
   ]
  },
  {
   "cell_type": "code",
   "execution_count": 14,
   "metadata": {},
   "outputs": [
    {
     "data": {
      "text/html": [
       "<div>\n",
       "<style scoped>\n",
       "    .dataframe tbody tr th:only-of-type {\n",
       "        vertical-align: middle;\n",
       "    }\n",
       "\n",
       "    .dataframe tbody tr th {\n",
       "        vertical-align: top;\n",
       "    }\n",
       "\n",
       "    .dataframe thead th {\n",
       "        text-align: right;\n",
       "    }\n",
       "</style>\n",
       "<table border=\"1\" class=\"dataframe\">\n",
       "  <thead>\n",
       "    <tr style=\"text-align: right;\">\n",
       "      <th></th>\n",
       "      <th>404 Not Found: No data found</th>\n",
       "      <th>symbol may be delisted</th>\n",
       "    </tr>\n",
       "  </thead>\n",
       "  <tbody>\n",
       "  </tbody>\n",
       "</table>\n",
       "</div>"
      ],
      "text/plain": [
       "Empty DataFrame\n",
       "Columns: [404 Not Found: No data found,  symbol may be delisted]\n",
       "Index: []"
      ]
     },
     "execution_count": 14,
     "metadata": {},
     "output_type": "execute_result"
    }
   ],
   "source": [
    "df"
   ]
  },
  {
   "cell_type": "code",
   "execution_count": 24,
   "metadata": {},
   "outputs": [
    {
     "name": "stdout",
     "output_type": "stream",
     "text": [
      "True\n"
     ]
    }
   ],
   "source": [
    "print(df.columns[0] == '404 Not Found: No data found')"
   ]
  },
  {
   "cell_type": "code",
   "execution_count": null,
   "metadata": {},
   "outputs": [],
   "source": [
    "import requests  # импортируем модуль\n",
    "import pandas as pd\n",
    "list_company = ['PD', 'ZUO', 'PINS', 'ZM', 'PVTL', 'DOCU', 'CLDR', 'RUN']\n",
    "\n",
    "for i in list_company:\n",
    "    with open(r'C:\\Users\\demap\\PycharmProjects\\parser_yahoo\\{}.csv'.format(i), \"wb\") as f:  # делая через менеджер контекста чтобы не было проблем с работой файлов\n",
    "        ufr = requests.get(\"https://query1.finance.yahoo.com/v7/finance/download/{}?period1=1565481600&period2=1597104000&interval=1d&events=history\".format(i))  # делаем запрос\n",
    "        f.write(ufr.content)    # записываем в файл наши данны\n",
    "\n",
    "for i in list_company:\n",
    "    df = pd.read_csv('{}.csv'.format(i))\n",
    "    if df.columns[0] == '404 Not Found: No data found':\n",
    "        continue\n",
    "    df['Date'] = pd.to_datetime(df['Date'])\n",
    "    df['3day_before_change'] = '-'\n",
    "    n = len(df.Close)\n",
    "    for _ in range(n - 3):\n",
    "        if (df['Date'][_ + 1] - df['Date'][_]).days == 3:\n",
    "            if df.loc[_ + 1, 'Close'] != float(0) and df.loc[_, 'Close'] != float(0):\n",
    "                df.loc[_ + 1, '3day_before_change'] = float(df.loc[_ + 1, 'Close'] / df.loc[_, 'Close'])\n",
    "        elif (df['Date'][_ + 2] - df['Date'][_]).days == 3:\n",
    "            if df.loc[_ + 2, 'Close'] != float(0) and df.loc[_, 'Close'] != float(0):\n",
    "                df.loc[_ + 2, '3day_before_change'] = float(df.loc[_ + 2, 'Close'] / df.loc[_, 'Close'])\n",
    "        elif (df['Date'][_ + 3] - df['Date'][_]).days == 3:\n",
    "            if df.loc[_ + 3, 'Close'] != float(0) and df.loc[_, 'Close'] != float(0):\n",
    "                df.loc[_ + 3, '3day_before_change'] = float(df.loc[_ + 3, 'Close'] / df.loc[_, 'Close'])\n",
    "    if (df['Date'][n - 1] - df['Date'][n - 2]).days == 3:\n",
    "        if df.loc[n - 1, 'Close'] != float(0) and df.loc[n - 2, 'Close'] != float(0):\n",
    "            df.loc[n - 1, '3day_before_change'] = float(df.loc[n - 1, 'Close'] / df.loc[n - 2, 'Close'])\n",
    "    if (df['Date'][n - 2] - df['Date'][n - 3]).days == 3:\n",
    "        if df.loc[n - 2, 'Close'] != float(0) and df.loc[n - 3, 'Close'] != float(0):\n",
    "            df.loc[n - 2, '3day_before_change'] = float(df.loc[n - 2, 'Close'] / df.loc[n - 3, 'Close'])\n",
    "    df.to_csv('{}.csv'.format(i))\n"
   ]
  },
  {
   "cell_type": "code",
   "execution_count": 26,
   "metadata": {},
   "outputs": [],
   "source": [
    "import csv\n",
    "\n",
    "with open('employee_file2.csv', mode='w') as csv_file:\n",
    "    fieldnames = ['Title', 'link']\n",
    "    writer = csv.DictWriter(csv_file, fieldnames=fieldnames)\n",
    "\n",
    "    writer.writeheader()\n",
    "    writer.writerow({'Title': 'Title', 'link': 'link'})\n"
   ]
  },
  {
   "cell_type": "code",
   "execution_count": 27,
   "metadata": {},
   "outputs": [
    {
     "ename": "SyntaxError",
     "evalue": "invalid syntax (<ipython-input-27-da7981a48f4b>, line 13)",
     "output_type": "error",
     "traceback": [
      "\u001b[1;36m  File \u001b[1;32m\"<ipython-input-27-da7981a48f4b>\"\u001b[1;36m, line \u001b[1;32m13\u001b[0m\n\u001b[1;33m    writer = csv.DictWriter(csv_file, fieldnames=fieldnames)    print(div.next.get('href'))\u001b[0m\n\u001b[1;37m                                                                ^\u001b[0m\n\u001b[1;31mSyntaxError\u001b[0m\u001b[1;31m:\u001b[0m invalid syntax\n"
     ]
    }
   ],
   "source": [
    "import requests\n",
    "from bs4 import BeautifulSoup\n",
    "import csv\n",
    "\n",
    "with open(r'C:\\Users\\demap\\PycharmProjects\\parser_yahoo\\PD.html', \"wb\") as f:  # делая через менеджер контекста чтобы не было проблем с работой файлов\n",
    "    ufr = requests.get(\"https://finance.yahoo.com/quote/PD?p=PD&.tsrc=fin-srch\")  # делаем запрос\n",
    "    f.write(ufr.content)\n",
    "    html = open(r'C:\\Users\\demap\\PycharmProjects\\parser_yahoo\\PD.html').read()\n",
    "    soup = BeautifulSoup(html, 'lxml')\n",
    "    div = soup.find('h3', class_=\"Mb(5px)\")\n",
    "    with open('employee_file2.csv', mode='w') as csv_file:\n",
    "        fieldnames = ['Title', 'link']\n",
    "        writer = csv.DictWriter(csv_file, fieldnames=fieldnames)    print(div.next.get('href'))\n",
    "        print(div.get_text())"
   ]
  },
  {
   "cell_type": "code",
   "execution_count": null,
   "metadata": {},
   "outputs": [],
   "source": []
  }
 ],
 "metadata": {
  "kernelspec": {
   "display_name": "Python 3",
   "language": "python",
   "name": "python3"
  },
  "language_info": {
   "codemirror_mode": {
    "name": "ipython",
    "version": 3
   },
   "file_extension": ".py",
   "mimetype": "text/x-python",
   "name": "python",
   "nbconvert_exporter": "python",
   "pygments_lexer": "ipython3",
   "version": "3.8.3"
  }
 },
 "nbformat": 4,
 "nbformat_minor": 4
}
